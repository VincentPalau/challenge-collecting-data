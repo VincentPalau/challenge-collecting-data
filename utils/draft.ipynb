{
 "cells": [
  {
   "cell_type": "code",
   "execution_count": 39,
   "metadata": {},
   "outputs": [
    {
     "name": "stdout",
     "output_type": "stream",
     "text": [
      "[]\n"
     ]
    }
   ],
   "source": [
    "from bs4 import BeautifulSoup\n",
    "import requests\n",
    "\n",
    "# collect urls list of all properties\n",
    "first_page_url = \"https://www.immoweb.be/en/search/house-and-apartment/for-sale?countries=BE&page=1&orderBy=relevance\"\n",
    "# get request object from url\n",
    "response = requests.get(first_page_url)\n",
    "# extract the content into variable using Beautifulsoup \n",
    "soup = BeautifulSoup(response.content, \"lxml\")\n",
    "# scrap property links on this page \n",
    "scraped_property_links=soup.find_all(\"a\", attrs={\"class\": \"card__title-link\"})\n",
    "# <a id=\"\" href=\"https://www.immoweb.be/en/classified/flat-studio/for-sale/leuven/3000/9725336?searchId=61f3dd214161f\" aria-label=\"Studio for sale, Leuven (147000€)\" class=\"card__title-link\">\n",
    "                   # Studio\n",
    "                # </a>\n",
    "property_links = []\n",
    "for property in scraped_property_links:\n",
    "    property_links.append(property.get(\"href\"))\n",
    "print(property_links)"
   ]
  },
  {
   "cell_type": "code",
   "execution_count": 45,
   "metadata": {},
   "outputs": [
    {
     "name": "stdout",
     "output_type": "stream",
     "text": [
      "['https://www.immoweb.be/en/classified/apartment-block/for-sale/berchem-sainte-agathe/1082/9711185?searchId=61f7b6c3ccde8', 'https://www.immoweb.be/en/classified/new-real-estate-project-apartments/for-sale/brugge-sint-andries/8200/9730235?searchId=61f7b6c3ccde8', 'https://www.immoweb.be/en/classified/town-house/for-sale/laeken/1020/9730456?searchId=61f7b6c3ccde8', 'https://www.immoweb.be/en/classified/penthouse/for-sale/evere/1140/9729720?searchId=61f7b6c3ccde8', 'https://www.immoweb.be/en/classified/house/for-sale/ronse/9600/9729315?searchId=61f7b6c3ccde8', 'https://www.immoweb.be/en/classified/apartment/for-sale/blankenberge/8370/9729786?searchId=61f7b6c3ccde8', 'https://www.immoweb.be/en/classified/penthouse/for-sale/blankenberge/8370/9729785?searchId=61f7b6c3ccde8', 'https://www.immoweb.be/en/classified/penthouse/for-sale/blankenberge/8370/9729784?searchId=61f7b6c3ccde8', 'https://www.immoweb.be/en/classified/apartment/for-sale/blankenberge/8370/9729781?searchId=61f7b6c3ccde8', 'https://www.immoweb.be/en/classified/apartment/for-sale/blankenberge/8370/9729991?searchId=61f7b6c3ccde8', 'https://www.immoweb.be/en/classified/penthouse/for-sale/blankenberge/8370/9729780?searchId=61f7b6c3ccde8', 'https://www.immoweb.be/en/classified/apartment-block/for-sale/dison/4820/9729466?searchId=61f7b6c3ccde8', 'https://www.immoweb.be/en/classified/house/for-sale/liege/4000/9727425?searchId=61f7b6c3ccde8', 'https://www.immoweb.be/en/classified/apartment/for-sale/liege/4020/9728463?searchId=61f7b6c3ccde8', 'https://www.immoweb.be/en/classified/apartment/for-sale/evere/1140/9727236?searchId=61f7b6c3ccde8', 'https://www.immoweb.be/en/classified/penthouse/for-sale/laeken/1020/9727201?searchId=61f7b6c3ccde8', 'https://www.immoweb.be/en/classified/new-real-estate-project-apartments/for-sale/chaumont-gistoux/1325/9727561?searchId=61f7b6c3ccde8', 'https://www.immoweb.be/en/classified/duplex/for-sale/molenbeek-saint-jean/1080/9727376?searchId=61f7b6c3ccde8', 'https://www.immoweb.be/en/classified/penthouse/for-sale/watermael-boitsfort/1170/9727139?searchId=61f7b6c3ccde8', 'https://www.immoweb.be/en/classified/house/for-sale/ottignies-louvain-la-neuve/1348/9727469?searchId=61f7b6c3ccde8', 'https://www.immoweb.be/en/classified/new-real-estate-project-apartments/for-sale/uccle/1180/9727340?searchId=61f7b6c3ccde8', 'https://www.immoweb.be/en/classified/new-real-estate-project-apartments/for-sale/saint-gilles/1060/9727352?searchId=61f7b6c3ccde8', 'https://www.immoweb.be/en/classified/flat-studio/for-sale/leuven/3000/9725336?searchId=61f7b6c3ccde8', 'https://www.immoweb.be/en/classified/apartment/for-sale/saint-gilles/1060/9725354?searchId=61f7b6c3ccde8', 'https://www.immoweb.be/en/classified/apartment/for-sale/leuven-heverlee/3001/9674146?searchId=61f7b6c3ccde8', 'https://www.immoweb.be/en/classified/apartment/for-sale/molenbeek-saint-jean/1080/9726491?searchId=61f7b6c3ccde8', 'https://www.immoweb.be/en/classified/penthouse/for-sale/jette/1090/9725914?searchId=61f7b6c3ccde8', 'https://www.immoweb.be/en/classified/new-real-estate-project-apartments/for-sale/uccle/1180/9725517?searchId=61f7b6c3ccde8', 'https://www.immoweb.be/en/classified/new-real-estate-project-apartments/for-sale/uccle/1180/9725522?searchId=61f7b6c3ccde8', 'https://www.immoweb.be/en/classified/apartment/for-sale/oupeye/4680/9723704?searchId=61f7b6c3ccde8', 'https://www.immoweb.be/en/classified/house/for-sale/nechin/7730/9730859', 'https://www.immoweb.be/en/classified/apartment-block/for-sale/evere/1140/9730857', 'https://www.immoweb.be/en/classified/apartment-block/for-sale/anderlecht/1070/9727235', 'https://www.immoweb.be/en/classified/apartment-block/for-sale/berchem-sainte-agathe/1082/9711185', 'https://www.immoweb.be/en/classified/house/for-sale/herne/1540/9730843', 'https://www.immoweb.be/en/classified/house/for-sale/molenbeek-saint-jean/1080/9730794', 'https://www.immoweb.be/en/classified/new-real-estate-project-apartments/for-sale/braine-lalleud/1420/9730786', 'https://www.immoweb.be/en/classified/ground-floor/for-sale/anderlecht/1070/9730783']\n"
     ]
    }
   ],
   "source": [
    "from selenium import webdriver\n",
    "from selenium.webdriver.support.ui import WebDriverWait\n",
    "from selenium.webdriver.support import expected_conditions as EC\n",
    "from selenium.common.exceptions import TimeoutException\n",
    "from selenium.webdriver.common.by import By\n",
    "from bs4 import BeautifulSoup\n",
    "import requests\n",
    "import time\n",
    "\n",
    "url = \"https://www.immoweb.be/en/search/house-and-apartment/for-sale?countries=BE&page=1&orderBy=relevance\"\n",
    "\n",
    "from selenium.webdriver.chrome.service import Service\n",
    "service = Service(\"C:\\\\Users\\\\sayra\\\\Downloads\\\\chromedriver.exe\")\n",
    "driver =  webdriver.Chrome(service=service)\n",
    "\n",
    "accept_next_alert = True\n",
    "driver.implicitly_wait(10)\n",
    "wait = WebDriverWait(driver,10)\n",
    "driver.get(url)\n",
    "time.sleep(10)\n",
    "# get request object from url\n",
    "soup = BeautifulSoup(driver.page_source, \"lxml\")\n",
    "driver.close()\n",
    "# scrap property links on this page \n",
    "scraped_property_links=soup.find_all(\"a\", attrs={\"class\": \"card__title-link\"})\n",
    "property_links = []\n",
    "for property in scraped_property_links:\n",
    "    property_links.append(property.get(\"href\"))\n",
    "print(property_links)\n",
    "\n",
    "\n"
   ]
  },
  {
   "cell_type": "markdown",
   "metadata": {},
   "source": [
    "- Locality\n",
    "- Type of property (House/apartment)\n",
    "- Subtype of property (Bungalow, Chalet, Mansion, ...)\n",
    "- Price\n",
    "- Type of sale (Exclusion of life sales)\n",
    "- Number of rooms\n",
    "- Area /measurement \n",
    "- Fully equipped kitchen (Yes/No)\n",
    "- Furnished (Yes/No)\n",
    "- Open fire (Yes/No)\n",
    "- Terrace (Yes/No)\n",
    "  - If yes: Area\n",
    "- Garden (Yes/No)\n",
    "  - If yes: Area\n",
    "- Surface of the land\n",
    "- Surface area of the plot of land\n",
    "- Number of facades\n",
    "- Swimming pool (Yes/No)\n",
    "- State of the building (New, to be renovated, ...)\n",
    "\n",
    "for elem in soup.find_all(\"div\", attrs={\"class\": \"titlebar-title titlebar-title-lg\"}):\n",
    "    # Just like that\n",
    "    print(elem.text)\n",
    "\n",
    "for elem in soup.find_all(\"div\", attrs={\"class\": \"content-txt \"}):\n",
    "    # Just like that\n",
    "    print(elem.text)"
   ]
  },
  {
   "cell_type": "code",
   "execution_count": 87,
   "metadata": {},
   "outputs": [
    {
     "name": "stdout",
     "output_type": "stream",
     "text": [
      "['720000€']\n",
      "\n",
      "                                    Bruxelles\n",
      "                                \n"
     ]
    }
   ],
   "source": [
    "\n",
    "property_link_1 = \"https://www.immoweb.be/en/classified/apartment-block/for-sale/berchem-sainte-agathe/1082/9711185?searchId=61f7b6c3ccde8\"\n",
    "\n",
    "soup = BeautifulSoup(requests.get(property_link_1).content, \"lxml\")\n",
    "\n",
    "# extracting price\n",
    "property_price=soup.find(\"span\", attrs={\"class\": \"sr-only\"})\n",
    "price =[]\n",
    "for elem in property_price:\n",
    "    price.append(elem.get_text())\n",
    "print(price)\n",
    "\n",
    "# extracting locality\n",
    "property_locality=soup.find_all(\"td\", attrs={\"class\": \"classified-table__data\"})   \n",
    "locality =[]\n",
    "for elem in property_locality:      \n",
    "    locality.append(elem.string)\n",
    "print(locality[2])\n",
    "\n",
    "# type of property, extract from contents in url links? \n",
    "# number of rooms\n",
    "\n",
    "\n"
   ]
  }
 ],
 "metadata": {
  "interpreter": {
   "hash": "3906bad2f073efbe2f1318fef8d544142daa586302c61bc8c88af359d434ee6a"
  },
  "kernelspec": {
   "display_name": "Python 3.10.1 64-bit",
   "language": "python",
   "name": "python3"
  },
  "language_info": {
   "codemirror_mode": {
    "name": "ipython",
    "version": 3
   },
   "file_extension": ".py",
   "mimetype": "text/x-python",
   "name": "python",
   "nbconvert_exporter": "python",
   "pygments_lexer": "ipython3",
   "version": "3.10.1"
  },
  "orig_nbformat": 4
 },
 "nbformat": 4,
 "nbformat_minor": 2
}
